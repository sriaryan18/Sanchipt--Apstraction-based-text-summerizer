{
  "nbformat": 4,
  "nbformat_minor": 0,
  "metadata": {
    "accelerator": "GPU",
    "colab": {
      "provenance": [],
      "include_colab_link": true
    },
    "kernelspec": {
      "display_name": "Python 3",
      "name": "python3"
    },
    "language_info": {
      "name": "python"
    },
    "widgets": {
      "application/vnd.jupyter.widget-state+json": {
        "f433f61ad8ae4794a31670857029643c": {
          "model_module": "@jupyter-widgets/controls",
          "model_name": "HBoxModel",
          "model_module_version": "1.5.0",
          "state": {
            "_dom_classes": [],
            "_model_module": "@jupyter-widgets/controls",
            "_model_module_version": "1.5.0",
            "_model_name": "HBoxModel",
            "_view_count": null,
            "_view_module": "@jupyter-widgets/controls",
            "_view_module_version": "1.5.0",
            "_view_name": "HBoxView",
            "box_style": "",
            "children": [
              "IPY_MODEL_f9160fe23e624a2191d23be7e972d702",
              "IPY_MODEL_724e7f5b055f42b6bda582f76e746da0",
              "IPY_MODEL_29f773a38af045dab0423180f1b55735"
            ],
            "layout": "IPY_MODEL_83fff37bdd3c4824ae901db53df3de79"
          }
        },
        "f9160fe23e624a2191d23be7e972d702": {
          "model_module": "@jupyter-widgets/controls",
          "model_name": "HTMLModel",
          "model_module_version": "1.5.0",
          "state": {
            "_dom_classes": [],
            "_model_module": "@jupyter-widgets/controls",
            "_model_module_version": "1.5.0",
            "_model_name": "HTMLModel",
            "_view_count": null,
            "_view_module": "@jupyter-widgets/controls",
            "_view_module_version": "1.5.0",
            "_view_name": "HTMLView",
            "description": "",
            "description_tooltip": null,
            "layout": "IPY_MODEL_6e704d64328b4c85b30deb0db5b0be2b",
            "placeholder": "​",
            "style": "IPY_MODEL_b1602b8a36844384b6a9a7fd752b951a",
            "value": "Downloading: 100%"
          }
        },
        "724e7f5b055f42b6bda582f76e746da0": {
          "model_module": "@jupyter-widgets/controls",
          "model_name": "FloatProgressModel",
          "model_module_version": "1.5.0",
          "state": {
            "_dom_classes": [],
            "_model_module": "@jupyter-widgets/controls",
            "_model_module_version": "1.5.0",
            "_model_name": "FloatProgressModel",
            "_view_count": null,
            "_view_module": "@jupyter-widgets/controls",
            "_view_module_version": "1.5.0",
            "_view_name": "ProgressView",
            "bar_style": "success",
            "description": "",
            "description_tooltip": null,
            "layout": "IPY_MODEL_77d60a2bc1c6435e96805e94028bcf01",
            "max": 1912529,
            "min": 0,
            "orientation": "horizontal",
            "style": "IPY_MODEL_f900611f93b14f4384ff5ce39e6389b8",
            "value": 1912529
          }
        },
        "29f773a38af045dab0423180f1b55735": {
          "model_module": "@jupyter-widgets/controls",
          "model_name": "HTMLModel",
          "model_module_version": "1.5.0",
          "state": {
            "_dom_classes": [],
            "_model_module": "@jupyter-widgets/controls",
            "_model_module_version": "1.5.0",
            "_model_name": "HTMLModel",
            "_view_count": null,
            "_view_module": "@jupyter-widgets/controls",
            "_view_module_version": "1.5.0",
            "_view_name": "HTMLView",
            "description": "",
            "description_tooltip": null,
            "layout": "IPY_MODEL_ab9c688e877347faa56f687f1a84ea35",
            "placeholder": "​",
            "style": "IPY_MODEL_5f978a9266ab438ca48ed7694bddb5e8",
            "value": " 1.91M/1.91M [00:01&lt;00:00, 1.36MB/s]"
          }
        },
        "83fff37bdd3c4824ae901db53df3de79": {
          "model_module": "@jupyter-widgets/base",
          "model_name": "LayoutModel",
          "model_module_version": "1.2.0",
          "state": {
            "_model_module": "@jupyter-widgets/base",
            "_model_module_version": "1.2.0",
            "_model_name": "LayoutModel",
            "_view_count": null,
            "_view_module": "@jupyter-widgets/base",
            "_view_module_version": "1.2.0",
            "_view_name": "LayoutView",
            "align_content": null,
            "align_items": null,
            "align_self": null,
            "border": null,
            "bottom": null,
            "display": null,
            "flex": null,
            "flex_flow": null,
            "grid_area": null,
            "grid_auto_columns": null,
            "grid_auto_flow": null,
            "grid_auto_rows": null,
            "grid_column": null,
            "grid_gap": null,
            "grid_row": null,
            "grid_template_areas": null,
            "grid_template_columns": null,
            "grid_template_rows": null,
            "height": null,
            "justify_content": null,
            "justify_items": null,
            "left": null,
            "margin": null,
            "max_height": null,
            "max_width": null,
            "min_height": null,
            "min_width": null,
            "object_fit": null,
            "object_position": null,
            "order": null,
            "overflow": null,
            "overflow_x": null,
            "overflow_y": null,
            "padding": null,
            "right": null,
            "top": null,
            "visibility": null,
            "width": null
          }
        },
        "6e704d64328b4c85b30deb0db5b0be2b": {
          "model_module": "@jupyter-widgets/base",
          "model_name": "LayoutModel",
          "model_module_version": "1.2.0",
          "state": {
            "_model_module": "@jupyter-widgets/base",
            "_model_module_version": "1.2.0",
            "_model_name": "LayoutModel",
            "_view_count": null,
            "_view_module": "@jupyter-widgets/base",
            "_view_module_version": "1.2.0",
            "_view_name": "LayoutView",
            "align_content": null,
            "align_items": null,
            "align_self": null,
            "border": null,
            "bottom": null,
            "display": null,
            "flex": null,
            "flex_flow": null,
            "grid_area": null,
            "grid_auto_columns": null,
            "grid_auto_flow": null,
            "grid_auto_rows": null,
            "grid_column": null,
            "grid_gap": null,
            "grid_row": null,
            "grid_template_areas": null,
            "grid_template_columns": null,
            "grid_template_rows": null,
            "height": null,
            "justify_content": null,
            "justify_items": null,
            "left": null,
            "margin": null,
            "max_height": null,
            "max_width": null,
            "min_height": null,
            "min_width": null,
            "object_fit": null,
            "object_position": null,
            "order": null,
            "overflow": null,
            "overflow_x": null,
            "overflow_y": null,
            "padding": null,
            "right": null,
            "top": null,
            "visibility": null,
            "width": null
          }
        },
        "b1602b8a36844384b6a9a7fd752b951a": {
          "model_module": "@jupyter-widgets/controls",
          "model_name": "DescriptionStyleModel",
          "model_module_version": "1.5.0",
          "state": {
            "_model_module": "@jupyter-widgets/controls",
            "_model_module_version": "1.5.0",
            "_model_name": "DescriptionStyleModel",
            "_view_count": null,
            "_view_module": "@jupyter-widgets/base",
            "_view_module_version": "1.2.0",
            "_view_name": "StyleView",
            "description_width": ""
          }
        },
        "77d60a2bc1c6435e96805e94028bcf01": {
          "model_module": "@jupyter-widgets/base",
          "model_name": "LayoutModel",
          "model_module_version": "1.2.0",
          "state": {
            "_model_module": "@jupyter-widgets/base",
            "_model_module_version": "1.2.0",
            "_model_name": "LayoutModel",
            "_view_count": null,
            "_view_module": "@jupyter-widgets/base",
            "_view_module_version": "1.2.0",
            "_view_name": "LayoutView",
            "align_content": null,
            "align_items": null,
            "align_self": null,
            "border": null,
            "bottom": null,
            "display": null,
            "flex": null,
            "flex_flow": null,
            "grid_area": null,
            "grid_auto_columns": null,
            "grid_auto_flow": null,
            "grid_auto_rows": null,
            "grid_column": null,
            "grid_gap": null,
            "grid_row": null,
            "grid_template_areas": null,
            "grid_template_columns": null,
            "grid_template_rows": null,
            "height": null,
            "justify_content": null,
            "justify_items": null,
            "left": null,
            "margin": null,
            "max_height": null,
            "max_width": null,
            "min_height": null,
            "min_width": null,
            "object_fit": null,
            "object_position": null,
            "order": null,
            "overflow": null,
            "overflow_x": null,
            "overflow_y": null,
            "padding": null,
            "right": null,
            "top": null,
            "visibility": null,
            "width": null
          }
        },
        "f900611f93b14f4384ff5ce39e6389b8": {
          "model_module": "@jupyter-widgets/controls",
          "model_name": "ProgressStyleModel",
          "model_module_version": "1.5.0",
          "state": {
            "_model_module": "@jupyter-widgets/controls",
            "_model_module_version": "1.5.0",
            "_model_name": "ProgressStyleModel",
            "_view_count": null,
            "_view_module": "@jupyter-widgets/base",
            "_view_module_version": "1.2.0",
            "_view_name": "StyleView",
            "bar_color": null,
            "description_width": ""
          }
        },
        "ab9c688e877347faa56f687f1a84ea35": {
          "model_module": "@jupyter-widgets/base",
          "model_name": "LayoutModel",
          "model_module_version": "1.2.0",
          "state": {
            "_model_module": "@jupyter-widgets/base",
            "_model_module_version": "1.2.0",
            "_model_name": "LayoutModel",
            "_view_count": null,
            "_view_module": "@jupyter-widgets/base",
            "_view_module_version": "1.2.0",
            "_view_name": "LayoutView",
            "align_content": null,
            "align_items": null,
            "align_self": null,
            "border": null,
            "bottom": null,
            "display": null,
            "flex": null,
            "flex_flow": null,
            "grid_area": null,
            "grid_auto_columns": null,
            "grid_auto_flow": null,
            "grid_auto_rows": null,
            "grid_column": null,
            "grid_gap": null,
            "grid_row": null,
            "grid_template_areas": null,
            "grid_template_columns": null,
            "grid_template_rows": null,
            "height": null,
            "justify_content": null,
            "justify_items": null,
            "left": null,
            "margin": null,
            "max_height": null,
            "max_width": null,
            "min_height": null,
            "min_width": null,
            "object_fit": null,
            "object_position": null,
            "order": null,
            "overflow": null,
            "overflow_x": null,
            "overflow_y": null,
            "padding": null,
            "right": null,
            "top": null,
            "visibility": null,
            "width": null
          }
        },
        "5f978a9266ab438ca48ed7694bddb5e8": {
          "model_module": "@jupyter-widgets/controls",
          "model_name": "DescriptionStyleModel",
          "model_module_version": "1.5.0",
          "state": {
            "_model_module": "@jupyter-widgets/controls",
            "_model_module_version": "1.5.0",
            "_model_name": "DescriptionStyleModel",
            "_view_count": null,
            "_view_module": "@jupyter-widgets/base",
            "_view_module_version": "1.2.0",
            "_view_name": "StyleView",
            "description_width": ""
          }
        },
        "2c84708ccc314e7abbeabde0d1896860": {
          "model_module": "@jupyter-widgets/controls",
          "model_name": "HBoxModel",
          "model_module_version": "1.5.0",
          "state": {
            "_dom_classes": [],
            "_model_module": "@jupyter-widgets/controls",
            "_model_module_version": "1.5.0",
            "_model_name": "HBoxModel",
            "_view_count": null,
            "_view_module": "@jupyter-widgets/controls",
            "_view_module_version": "1.5.0",
            "_view_name": "HBoxView",
            "box_style": "",
            "children": [
              "IPY_MODEL_8d0b4914989247009192ed9b46cbb45a",
              "IPY_MODEL_70561f3fb58a4096a2da3985f80f286e",
              "IPY_MODEL_df3ae0237ff44856994955d7daca3301"
            ],
            "layout": "IPY_MODEL_aa3d15ec27164ea1ad5abdee9e417797"
          }
        },
        "8d0b4914989247009192ed9b46cbb45a": {
          "model_module": "@jupyter-widgets/controls",
          "model_name": "HTMLModel",
          "model_module_version": "1.5.0",
          "state": {
            "_dom_classes": [],
            "_model_module": "@jupyter-widgets/controls",
            "_model_module_version": "1.5.0",
            "_model_name": "HTMLModel",
            "_view_count": null,
            "_view_module": "@jupyter-widgets/controls",
            "_view_module_version": "1.5.0",
            "_view_name": "HTMLView",
            "description": "",
            "description_tooltip": null,
            "layout": "IPY_MODEL_05bd2fcd719f43f8952d66cc6051b901",
            "placeholder": "​",
            "style": "IPY_MODEL_bd80ef713cf44debb932b604807a577b",
            "value": "Downloading: 100%"
          }
        },
        "70561f3fb58a4096a2da3985f80f286e": {
          "model_module": "@jupyter-widgets/controls",
          "model_name": "FloatProgressModel",
          "model_module_version": "1.5.0",
          "state": {
            "_dom_classes": [],
            "_model_module": "@jupyter-widgets/controls",
            "_model_module_version": "1.5.0",
            "_model_name": "FloatProgressModel",
            "_view_count": null,
            "_view_module": "@jupyter-widgets/controls",
            "_view_module_version": "1.5.0",
            "_view_name": "ProgressView",
            "bar_style": "success",
            "description": "",
            "description_tooltip": null,
            "layout": "IPY_MODEL_fc9761d1415c4b1391a6a6e2dc29124d",
            "max": 65,
            "min": 0,
            "orientation": "horizontal",
            "style": "IPY_MODEL_c0cf9b5b0ca84479a781bffcd177e822",
            "value": 65
          }
        },
        "df3ae0237ff44856994955d7daca3301": {
          "model_module": "@jupyter-widgets/controls",
          "model_name": "HTMLModel",
          "model_module_version": "1.5.0",
          "state": {
            "_dom_classes": [],
            "_model_module": "@jupyter-widgets/controls",
            "_model_module_version": "1.5.0",
            "_model_name": "HTMLModel",
            "_view_count": null,
            "_view_module": "@jupyter-widgets/controls",
            "_view_module_version": "1.5.0",
            "_view_name": "HTMLView",
            "description": "",
            "description_tooltip": null,
            "layout": "IPY_MODEL_beaa016c32da4d7aa5e4f4c8a82de4e7",
            "placeholder": "​",
            "style": "IPY_MODEL_97e5407f188f4b6887f99ba2a661096d",
            "value": " 65.0/65.0 [00:00&lt;00:00, 2.02kB/s]"
          }
        },
        "aa3d15ec27164ea1ad5abdee9e417797": {
          "model_module": "@jupyter-widgets/base",
          "model_name": "LayoutModel",
          "model_module_version": "1.2.0",
          "state": {
            "_model_module": "@jupyter-widgets/base",
            "_model_module_version": "1.2.0",
            "_model_name": "LayoutModel",
            "_view_count": null,
            "_view_module": "@jupyter-widgets/base",
            "_view_module_version": "1.2.0",
            "_view_name": "LayoutView",
            "align_content": null,
            "align_items": null,
            "align_self": null,
            "border": null,
            "bottom": null,
            "display": null,
            "flex": null,
            "flex_flow": null,
            "grid_area": null,
            "grid_auto_columns": null,
            "grid_auto_flow": null,
            "grid_auto_rows": null,
            "grid_column": null,
            "grid_gap": null,
            "grid_row": null,
            "grid_template_areas": null,
            "grid_template_columns": null,
            "grid_template_rows": null,
            "height": null,
            "justify_content": null,
            "justify_items": null,
            "left": null,
            "margin": null,
            "max_height": null,
            "max_width": null,
            "min_height": null,
            "min_width": null,
            "object_fit": null,
            "object_position": null,
            "order": null,
            "overflow": null,
            "overflow_x": null,
            "overflow_y": null,
            "padding": null,
            "right": null,
            "top": null,
            "visibility": null,
            "width": null
          }
        },
        "05bd2fcd719f43f8952d66cc6051b901": {
          "model_module": "@jupyter-widgets/base",
          "model_name": "LayoutModel",
          "model_module_version": "1.2.0",
          "state": {
            "_model_module": "@jupyter-widgets/base",
            "_model_module_version": "1.2.0",
            "_model_name": "LayoutModel",
            "_view_count": null,
            "_view_module": "@jupyter-widgets/base",
            "_view_module_version": "1.2.0",
            "_view_name": "LayoutView",
            "align_content": null,
            "align_items": null,
            "align_self": null,
            "border": null,
            "bottom": null,
            "display": null,
            "flex": null,
            "flex_flow": null,
            "grid_area": null,
            "grid_auto_columns": null,
            "grid_auto_flow": null,
            "grid_auto_rows": null,
            "grid_column": null,
            "grid_gap": null,
            "grid_row": null,
            "grid_template_areas": null,
            "grid_template_columns": null,
            "grid_template_rows": null,
            "height": null,
            "justify_content": null,
            "justify_items": null,
            "left": null,
            "margin": null,
            "max_height": null,
            "max_width": null,
            "min_height": null,
            "min_width": null,
            "object_fit": null,
            "object_position": null,
            "order": null,
            "overflow": null,
            "overflow_x": null,
            "overflow_y": null,
            "padding": null,
            "right": null,
            "top": null,
            "visibility": null,
            "width": null
          }
        },
        "bd80ef713cf44debb932b604807a577b": {
          "model_module": "@jupyter-widgets/controls",
          "model_name": "DescriptionStyleModel",
          "model_module_version": "1.5.0",
          "state": {
            "_model_module": "@jupyter-widgets/controls",
            "_model_module_version": "1.5.0",
            "_model_name": "DescriptionStyleModel",
            "_view_count": null,
            "_view_module": "@jupyter-widgets/base",
            "_view_module_version": "1.2.0",
            "_view_name": "StyleView",
            "description_width": ""
          }
        },
        "fc9761d1415c4b1391a6a6e2dc29124d": {
          "model_module": "@jupyter-widgets/base",
          "model_name": "LayoutModel",
          "model_module_version": "1.2.0",
          "state": {
            "_model_module": "@jupyter-widgets/base",
            "_model_module_version": "1.2.0",
            "_model_name": "LayoutModel",
            "_view_count": null,
            "_view_module": "@jupyter-widgets/base",
            "_view_module_version": "1.2.0",
            "_view_name": "LayoutView",
            "align_content": null,
            "align_items": null,
            "align_self": null,
            "border": null,
            "bottom": null,
            "display": null,
            "flex": null,
            "flex_flow": null,
            "grid_area": null,
            "grid_auto_columns": null,
            "grid_auto_flow": null,
            "grid_auto_rows": null,
            "grid_column": null,
            "grid_gap": null,
            "grid_row": null,
            "grid_template_areas": null,
            "grid_template_columns": null,
            "grid_template_rows": null,
            "height": null,
            "justify_content": null,
            "justify_items": null,
            "left": null,
            "margin": null,
            "max_height": null,
            "max_width": null,
            "min_height": null,
            "min_width": null,
            "object_fit": null,
            "object_position": null,
            "order": null,
            "overflow": null,
            "overflow_x": null,
            "overflow_y": null,
            "padding": null,
            "right": null,
            "top": null,
            "visibility": null,
            "width": null
          }
        },
        "c0cf9b5b0ca84479a781bffcd177e822": {
          "model_module": "@jupyter-widgets/controls",
          "model_name": "ProgressStyleModel",
          "model_module_version": "1.5.0",
          "state": {
            "_model_module": "@jupyter-widgets/controls",
            "_model_module_version": "1.5.0",
            "_model_name": "ProgressStyleModel",
            "_view_count": null,
            "_view_module": "@jupyter-widgets/base",
            "_view_module_version": "1.2.0",
            "_view_name": "StyleView",
            "bar_color": null,
            "description_width": ""
          }
        },
        "beaa016c32da4d7aa5e4f4c8a82de4e7": {
          "model_module": "@jupyter-widgets/base",
          "model_name": "LayoutModel",
          "model_module_version": "1.2.0",
          "state": {
            "_model_module": "@jupyter-widgets/base",
            "_model_module_version": "1.2.0",
            "_model_name": "LayoutModel",
            "_view_count": null,
            "_view_module": "@jupyter-widgets/base",
            "_view_module_version": "1.2.0",
            "_view_name": "LayoutView",
            "align_content": null,
            "align_items": null,
            "align_self": null,
            "border": null,
            "bottom": null,
            "display": null,
            "flex": null,
            "flex_flow": null,
            "grid_area": null,
            "grid_auto_columns": null,
            "grid_auto_flow": null,
            "grid_auto_rows": null,
            "grid_column": null,
            "grid_gap": null,
            "grid_row": null,
            "grid_template_areas": null,
            "grid_template_columns": null,
            "grid_template_rows": null,
            "height": null,
            "justify_content": null,
            "justify_items": null,
            "left": null,
            "margin": null,
            "max_height": null,
            "max_width": null,
            "min_height": null,
            "min_width": null,
            "object_fit": null,
            "object_position": null,
            "order": null,
            "overflow": null,
            "overflow_x": null,
            "overflow_y": null,
            "padding": null,
            "right": null,
            "top": null,
            "visibility": null,
            "width": null
          }
        },
        "97e5407f188f4b6887f99ba2a661096d": {
          "model_module": "@jupyter-widgets/controls",
          "model_name": "DescriptionStyleModel",
          "model_module_version": "1.5.0",
          "state": {
            "_model_module": "@jupyter-widgets/controls",
            "_model_module_version": "1.5.0",
            "_model_name": "DescriptionStyleModel",
            "_view_count": null,
            "_view_module": "@jupyter-widgets/base",
            "_view_module_version": "1.2.0",
            "_view_name": "StyleView",
            "description_width": ""
          }
        },
        "dd422445e97c439eac85e98023f5fa9b": {
          "model_module": "@jupyter-widgets/controls",
          "model_name": "HBoxModel",
          "model_module_version": "1.5.0",
          "state": {
            "_dom_classes": [],
            "_model_module": "@jupyter-widgets/controls",
            "_model_module_version": "1.5.0",
            "_model_name": "HBoxModel",
            "_view_count": null,
            "_view_module": "@jupyter-widgets/controls",
            "_view_module_version": "1.5.0",
            "_view_name": "HBoxView",
            "box_style": "",
            "children": [
              "IPY_MODEL_0a1e7321016c4754b548a0ab4d46555f",
              "IPY_MODEL_c017fff115f945bcbd8bd79df4a1d3c0",
              "IPY_MODEL_4167d73a89a14cb1bafcf5c2cafd189e"
            ],
            "layout": "IPY_MODEL_6c6865277bd045dfbed61b7c0362a79e"
          }
        },
        "0a1e7321016c4754b548a0ab4d46555f": {
          "model_module": "@jupyter-widgets/controls",
          "model_name": "HTMLModel",
          "model_module_version": "1.5.0",
          "state": {
            "_dom_classes": [],
            "_model_module": "@jupyter-widgets/controls",
            "_model_module_version": "1.5.0",
            "_model_name": "HTMLModel",
            "_view_count": null,
            "_view_module": "@jupyter-widgets/controls",
            "_view_module_version": "1.5.0",
            "_view_name": "HTMLView",
            "description": "",
            "description_tooltip": null,
            "layout": "IPY_MODEL_4b342966c8d446d2a68707fcc809a827",
            "placeholder": "​",
            "style": "IPY_MODEL_170f7d01a9584312a80ed0d4bf6f504c",
            "value": "Downloading: 100%"
          }
        },
        "c017fff115f945bcbd8bd79df4a1d3c0": {
          "model_module": "@jupyter-widgets/controls",
          "model_name": "FloatProgressModel",
          "model_module_version": "1.5.0",
          "state": {
            "_dom_classes": [],
            "_model_module": "@jupyter-widgets/controls",
            "_model_module_version": "1.5.0",
            "_model_name": "FloatProgressModel",
            "_view_count": null,
            "_view_module": "@jupyter-widgets/controls",
            "_view_module_version": "1.5.0",
            "_view_name": "ProgressView",
            "bar_style": "success",
            "description": "",
            "description_tooltip": null,
            "layout": "IPY_MODEL_d371d756e76a434783b46babc2939c76",
            "max": 87,
            "min": 0,
            "orientation": "horizontal",
            "style": "IPY_MODEL_900472ed9cd24aa58c88e3c2bc02d62e",
            "value": 87
          }
        },
        "4167d73a89a14cb1bafcf5c2cafd189e": {
          "model_module": "@jupyter-widgets/controls",
          "model_name": "HTMLModel",
          "model_module_version": "1.5.0",
          "state": {
            "_dom_classes": [],
            "_model_module": "@jupyter-widgets/controls",
            "_model_module_version": "1.5.0",
            "_model_name": "HTMLModel",
            "_view_count": null,
            "_view_module": "@jupyter-widgets/controls",
            "_view_module_version": "1.5.0",
            "_view_name": "HTMLView",
            "description": "",
            "description_tooltip": null,
            "layout": "IPY_MODEL_e5c97798af9c4429b2c41fab1a8a9a0b",
            "placeholder": "​",
            "style": "IPY_MODEL_1922a204ee3c443ca19ccd3ca3836044",
            "value": " 87.0/87.0 [00:00&lt;00:00, 2.75kB/s]"
          }
        },
        "6c6865277bd045dfbed61b7c0362a79e": {
          "model_module": "@jupyter-widgets/base",
          "model_name": "LayoutModel",
          "model_module_version": "1.2.0",
          "state": {
            "_model_module": "@jupyter-widgets/base",
            "_model_module_version": "1.2.0",
            "_model_name": "LayoutModel",
            "_view_count": null,
            "_view_module": "@jupyter-widgets/base",
            "_view_module_version": "1.2.0",
            "_view_name": "LayoutView",
            "align_content": null,
            "align_items": null,
            "align_self": null,
            "border": null,
            "bottom": null,
            "display": null,
            "flex": null,
            "flex_flow": null,
            "grid_area": null,
            "grid_auto_columns": null,
            "grid_auto_flow": null,
            "grid_auto_rows": null,
            "grid_column": null,
            "grid_gap": null,
            "grid_row": null,
            "grid_template_areas": null,
            "grid_template_columns": null,
            "grid_template_rows": null,
            "height": null,
            "justify_content": null,
            "justify_items": null,
            "left": null,
            "margin": null,
            "max_height": null,
            "max_width": null,
            "min_height": null,
            "min_width": null,
            "object_fit": null,
            "object_position": null,
            "order": null,
            "overflow": null,
            "overflow_x": null,
            "overflow_y": null,
            "padding": null,
            "right": null,
            "top": null,
            "visibility": null,
            "width": null
          }
        },
        "4b342966c8d446d2a68707fcc809a827": {
          "model_module": "@jupyter-widgets/base",
          "model_name": "LayoutModel",
          "model_module_version": "1.2.0",
          "state": {
            "_model_module": "@jupyter-widgets/base",
            "_model_module_version": "1.2.0",
            "_model_name": "LayoutModel",
            "_view_count": null,
            "_view_module": "@jupyter-widgets/base",
            "_view_module_version": "1.2.0",
            "_view_name": "LayoutView",
            "align_content": null,
            "align_items": null,
            "align_self": null,
            "border": null,
            "bottom": null,
            "display": null,
            "flex": null,
            "flex_flow": null,
            "grid_area": null,
            "grid_auto_columns": null,
            "grid_auto_flow": null,
            "grid_auto_rows": null,
            "grid_column": null,
            "grid_gap": null,
            "grid_row": null,
            "grid_template_areas": null,
            "grid_template_columns": null,
            "grid_template_rows": null,
            "height": null,
            "justify_content": null,
            "justify_items": null,
            "left": null,
            "margin": null,
            "max_height": null,
            "max_width": null,
            "min_height": null,
            "min_width": null,
            "object_fit": null,
            "object_position": null,
            "order": null,
            "overflow": null,
            "overflow_x": null,
            "overflow_y": null,
            "padding": null,
            "right": null,
            "top": null,
            "visibility": null,
            "width": null
          }
        },
        "170f7d01a9584312a80ed0d4bf6f504c": {
          "model_module": "@jupyter-widgets/controls",
          "model_name": "DescriptionStyleModel",
          "model_module_version": "1.5.0",
          "state": {
            "_model_module": "@jupyter-widgets/controls",
            "_model_module_version": "1.5.0",
            "_model_name": "DescriptionStyleModel",
            "_view_count": null,
            "_view_module": "@jupyter-widgets/base",
            "_view_module_version": "1.2.0",
            "_view_name": "StyleView",
            "description_width": ""
          }
        },
        "d371d756e76a434783b46babc2939c76": {
          "model_module": "@jupyter-widgets/base",
          "model_name": "LayoutModel",
          "model_module_version": "1.2.0",
          "state": {
            "_model_module": "@jupyter-widgets/base",
            "_model_module_version": "1.2.0",
            "_model_name": "LayoutModel",
            "_view_count": null,
            "_view_module": "@jupyter-widgets/base",
            "_view_module_version": "1.2.0",
            "_view_name": "LayoutView",
            "align_content": null,
            "align_items": null,
            "align_self": null,
            "border": null,
            "bottom": null,
            "display": null,
            "flex": null,
            "flex_flow": null,
            "grid_area": null,
            "grid_auto_columns": null,
            "grid_auto_flow": null,
            "grid_auto_rows": null,
            "grid_column": null,
            "grid_gap": null,
            "grid_row": null,
            "grid_template_areas": null,
            "grid_template_columns": null,
            "grid_template_rows": null,
            "height": null,
            "justify_content": null,
            "justify_items": null,
            "left": null,
            "margin": null,
            "max_height": null,
            "max_width": null,
            "min_height": null,
            "min_width": null,
            "object_fit": null,
            "object_position": null,
            "order": null,
            "overflow": null,
            "overflow_x": null,
            "overflow_y": null,
            "padding": null,
            "right": null,
            "top": null,
            "visibility": null,
            "width": null
          }
        },
        "900472ed9cd24aa58c88e3c2bc02d62e": {
          "model_module": "@jupyter-widgets/controls",
          "model_name": "ProgressStyleModel",
          "model_module_version": "1.5.0",
          "state": {
            "_model_module": "@jupyter-widgets/controls",
            "_model_module_version": "1.5.0",
            "_model_name": "ProgressStyleModel",
            "_view_count": null,
            "_view_module": "@jupyter-widgets/base",
            "_view_module_version": "1.2.0",
            "_view_name": "StyleView",
            "bar_color": null,
            "description_width": ""
          }
        },
        "e5c97798af9c4429b2c41fab1a8a9a0b": {
          "model_module": "@jupyter-widgets/base",
          "model_name": "LayoutModel",
          "model_module_version": "1.2.0",
          "state": {
            "_model_module": "@jupyter-widgets/base",
            "_model_module_version": "1.2.0",
            "_model_name": "LayoutModel",
            "_view_count": null,
            "_view_module": "@jupyter-widgets/base",
            "_view_module_version": "1.2.0",
            "_view_name": "LayoutView",
            "align_content": null,
            "align_items": null,
            "align_self": null,
            "border": null,
            "bottom": null,
            "display": null,
            "flex": null,
            "flex_flow": null,
            "grid_area": null,
            "grid_auto_columns": null,
            "grid_auto_flow": null,
            "grid_auto_rows": null,
            "grid_column": null,
            "grid_gap": null,
            "grid_row": null,
            "grid_template_areas": null,
            "grid_template_columns": null,
            "grid_template_rows": null,
            "height": null,
            "justify_content": null,
            "justify_items": null,
            "left": null,
            "margin": null,
            "max_height": null,
            "max_width": null,
            "min_height": null,
            "min_width": null,
            "object_fit": null,
            "object_position": null,
            "order": null,
            "overflow": null,
            "overflow_x": null,
            "overflow_y": null,
            "padding": null,
            "right": null,
            "top": null,
            "visibility": null,
            "width": null
          }
        },
        "1922a204ee3c443ca19ccd3ca3836044": {
          "model_module": "@jupyter-widgets/controls",
          "model_name": "DescriptionStyleModel",
          "model_module_version": "1.5.0",
          "state": {
            "_model_module": "@jupyter-widgets/controls",
            "_model_module_version": "1.5.0",
            "_model_name": "DescriptionStyleModel",
            "_view_count": null,
            "_view_module": "@jupyter-widgets/base",
            "_view_module_version": "1.2.0",
            "_view_name": "StyleView",
            "description_width": ""
          }
        },
        "5cf9dc0b4bbb47e093ad4ed169b1e137": {
          "model_module": "@jupyter-widgets/controls",
          "model_name": "HBoxModel",
          "model_module_version": "1.5.0",
          "state": {
            "_dom_classes": [],
            "_model_module": "@jupyter-widgets/controls",
            "_model_module_version": "1.5.0",
            "_model_name": "HBoxModel",
            "_view_count": null,
            "_view_module": "@jupyter-widgets/controls",
            "_view_module_version": "1.5.0",
            "_view_name": "HBoxView",
            "box_style": "",
            "children": [
              "IPY_MODEL_9296287b04634ebe9c271ae9fe39a651",
              "IPY_MODEL_294d7ce06518485989e299083fa93c4a",
              "IPY_MODEL_c3f6d1f29cae4b4cb76b2112798ea126"
            ],
            "layout": "IPY_MODEL_c6cb1c64c9fa4ee4843737f756c344cf"
          }
        },
        "9296287b04634ebe9c271ae9fe39a651": {
          "model_module": "@jupyter-widgets/controls",
          "model_name": "HTMLModel",
          "model_module_version": "1.5.0",
          "state": {
            "_dom_classes": [],
            "_model_module": "@jupyter-widgets/controls",
            "_model_module_version": "1.5.0",
            "_model_name": "HTMLModel",
            "_view_count": null,
            "_view_module": "@jupyter-widgets/controls",
            "_view_module_version": "1.5.0",
            "_view_name": "HTMLView",
            "description": "",
            "description_tooltip": null,
            "layout": "IPY_MODEL_7d8afff3f34a4a8ea2794b333d8cf16a",
            "placeholder": "​",
            "style": "IPY_MODEL_748a487787584d5c8722f7804b1d346c",
            "value": "Downloading: 100%"
          }
        },
        "294d7ce06518485989e299083fa93c4a": {
          "model_module": "@jupyter-widgets/controls",
          "model_name": "FloatProgressModel",
          "model_module_version": "1.5.0",
          "state": {
            "_dom_classes": [],
            "_model_module": "@jupyter-widgets/controls",
            "_model_module_version": "1.5.0",
            "_model_name": "FloatProgressModel",
            "_view_count": null,
            "_view_module": "@jupyter-widgets/controls",
            "_view_module_version": "1.5.0",
            "_view_name": "ProgressView",
            "bar_style": "success",
            "description": "",
            "description_tooltip": null,
            "layout": "IPY_MODEL_ac6453ce4b7f4408bbf1c2c1abebbd44",
            "max": 1392,
            "min": 0,
            "orientation": "horizontal",
            "style": "IPY_MODEL_54ed5e5d9bfd414eb0e759d32a31bb0e",
            "value": 1392
          }
        },
        "c3f6d1f29cae4b4cb76b2112798ea126": {
          "model_module": "@jupyter-widgets/controls",
          "model_name": "HTMLModel",
          "model_module_version": "1.5.0",
          "state": {
            "_dom_classes": [],
            "_model_module": "@jupyter-widgets/controls",
            "_model_module_version": "1.5.0",
            "_model_name": "HTMLModel",
            "_view_count": null,
            "_view_module": "@jupyter-widgets/controls",
            "_view_module_version": "1.5.0",
            "_view_name": "HTMLView",
            "description": "",
            "description_tooltip": null,
            "layout": "IPY_MODEL_b12f959160c440f49eb050b70dcef28f",
            "placeholder": "​",
            "style": "IPY_MODEL_3dd1042a821a4d26b22c240d2c6a0c1b",
            "value": " 1.39k/1.39k [00:00&lt;00:00, 30.1kB/s]"
          }
        },
        "c6cb1c64c9fa4ee4843737f756c344cf": {
          "model_module": "@jupyter-widgets/base",
          "model_name": "LayoutModel",
          "model_module_version": "1.2.0",
          "state": {
            "_model_module": "@jupyter-widgets/base",
            "_model_module_version": "1.2.0",
            "_model_name": "LayoutModel",
            "_view_count": null,
            "_view_module": "@jupyter-widgets/base",
            "_view_module_version": "1.2.0",
            "_view_name": "LayoutView",
            "align_content": null,
            "align_items": null,
            "align_self": null,
            "border": null,
            "bottom": null,
            "display": null,
            "flex": null,
            "flex_flow": null,
            "grid_area": null,
            "grid_auto_columns": null,
            "grid_auto_flow": null,
            "grid_auto_rows": null,
            "grid_column": null,
            "grid_gap": null,
            "grid_row": null,
            "grid_template_areas": null,
            "grid_template_columns": null,
            "grid_template_rows": null,
            "height": null,
            "justify_content": null,
            "justify_items": null,
            "left": null,
            "margin": null,
            "max_height": null,
            "max_width": null,
            "min_height": null,
            "min_width": null,
            "object_fit": null,
            "object_position": null,
            "order": null,
            "overflow": null,
            "overflow_x": null,
            "overflow_y": null,
            "padding": null,
            "right": null,
            "top": null,
            "visibility": null,
            "width": null
          }
        },
        "7d8afff3f34a4a8ea2794b333d8cf16a": {
          "model_module": "@jupyter-widgets/base",
          "model_name": "LayoutModel",
          "model_module_version": "1.2.0",
          "state": {
            "_model_module": "@jupyter-widgets/base",
            "_model_module_version": "1.2.0",
            "_model_name": "LayoutModel",
            "_view_count": null,
            "_view_module": "@jupyter-widgets/base",
            "_view_module_version": "1.2.0",
            "_view_name": "LayoutView",
            "align_content": null,
            "align_items": null,
            "align_self": null,
            "border": null,
            "bottom": null,
            "display": null,
            "flex": null,
            "flex_flow": null,
            "grid_area": null,
            "grid_auto_columns": null,
            "grid_auto_flow": null,
            "grid_auto_rows": null,
            "grid_column": null,
            "grid_gap": null,
            "grid_row": null,
            "grid_template_areas": null,
            "grid_template_columns": null,
            "grid_template_rows": null,
            "height": null,
            "justify_content": null,
            "justify_items": null,
            "left": null,
            "margin": null,
            "max_height": null,
            "max_width": null,
            "min_height": null,
            "min_width": null,
            "object_fit": null,
            "object_position": null,
            "order": null,
            "overflow": null,
            "overflow_x": null,
            "overflow_y": null,
            "padding": null,
            "right": null,
            "top": null,
            "visibility": null,
            "width": null
          }
        },
        "748a487787584d5c8722f7804b1d346c": {
          "model_module": "@jupyter-widgets/controls",
          "model_name": "DescriptionStyleModel",
          "model_module_version": "1.5.0",
          "state": {
            "_model_module": "@jupyter-widgets/controls",
            "_model_module_version": "1.5.0",
            "_model_name": "DescriptionStyleModel",
            "_view_count": null,
            "_view_module": "@jupyter-widgets/base",
            "_view_module_version": "1.2.0",
            "_view_name": "StyleView",
            "description_width": ""
          }
        },
        "ac6453ce4b7f4408bbf1c2c1abebbd44": {
          "model_module": "@jupyter-widgets/base",
          "model_name": "LayoutModel",
          "model_module_version": "1.2.0",
          "state": {
            "_model_module": "@jupyter-widgets/base",
            "_model_module_version": "1.2.0",
            "_model_name": "LayoutModel",
            "_view_count": null,
            "_view_module": "@jupyter-widgets/base",
            "_view_module_version": "1.2.0",
            "_view_name": "LayoutView",
            "align_content": null,
            "align_items": null,
            "align_self": null,
            "border": null,
            "bottom": null,
            "display": null,
            "flex": null,
            "flex_flow": null,
            "grid_area": null,
            "grid_auto_columns": null,
            "grid_auto_flow": null,
            "grid_auto_rows": null,
            "grid_column": null,
            "grid_gap": null,
            "grid_row": null,
            "grid_template_areas": null,
            "grid_template_columns": null,
            "grid_template_rows": null,
            "height": null,
            "justify_content": null,
            "justify_items": null,
            "left": null,
            "margin": null,
            "max_height": null,
            "max_width": null,
            "min_height": null,
            "min_width": null,
            "object_fit": null,
            "object_position": null,
            "order": null,
            "overflow": null,
            "overflow_x": null,
            "overflow_y": null,
            "padding": null,
            "right": null,
            "top": null,
            "visibility": null,
            "width": null
          }
        },
        "54ed5e5d9bfd414eb0e759d32a31bb0e": {
          "model_module": "@jupyter-widgets/controls",
          "model_name": "ProgressStyleModel",
          "model_module_version": "1.5.0",
          "state": {
            "_model_module": "@jupyter-widgets/controls",
            "_model_module_version": "1.5.0",
            "_model_name": "ProgressStyleModel",
            "_view_count": null,
            "_view_module": "@jupyter-widgets/base",
            "_view_module_version": "1.2.0",
            "_view_name": "StyleView",
            "bar_color": null,
            "description_width": ""
          }
        },
        "b12f959160c440f49eb050b70dcef28f": {
          "model_module": "@jupyter-widgets/base",
          "model_name": "LayoutModel",
          "model_module_version": "1.2.0",
          "state": {
            "_model_module": "@jupyter-widgets/base",
            "_model_module_version": "1.2.0",
            "_model_name": "LayoutModel",
            "_view_count": null,
            "_view_module": "@jupyter-widgets/base",
            "_view_module_version": "1.2.0",
            "_view_name": "LayoutView",
            "align_content": null,
            "align_items": null,
            "align_self": null,
            "border": null,
            "bottom": null,
            "display": null,
            "flex": null,
            "flex_flow": null,
            "grid_area": null,
            "grid_auto_columns": null,
            "grid_auto_flow": null,
            "grid_auto_rows": null,
            "grid_column": null,
            "grid_gap": null,
            "grid_row": null,
            "grid_template_areas": null,
            "grid_template_columns": null,
            "grid_template_rows": null,
            "height": null,
            "justify_content": null,
            "justify_items": null,
            "left": null,
            "margin": null,
            "max_height": null,
            "max_width": null,
            "min_height": null,
            "min_width": null,
            "object_fit": null,
            "object_position": null,
            "order": null,
            "overflow": null,
            "overflow_x": null,
            "overflow_y": null,
            "padding": null,
            "right": null,
            "top": null,
            "visibility": null,
            "width": null
          }
        },
        "3dd1042a821a4d26b22c240d2c6a0c1b": {
          "model_module": "@jupyter-widgets/controls",
          "model_name": "DescriptionStyleModel",
          "model_module_version": "1.5.0",
          "state": {
            "_model_module": "@jupyter-widgets/controls",
            "_model_module_version": "1.5.0",
            "_model_name": "DescriptionStyleModel",
            "_view_count": null,
            "_view_module": "@jupyter-widgets/base",
            "_view_module_version": "1.2.0",
            "_view_name": "StyleView",
            "description_width": ""
          }
        },
        "7b19edee823541c5b15a125e95b014f9": {
          "model_module": "@jupyter-widgets/controls",
          "model_name": "HBoxModel",
          "model_module_version": "1.5.0",
          "state": {
            "_dom_classes": [],
            "_model_module": "@jupyter-widgets/controls",
            "_model_module_version": "1.5.0",
            "_model_name": "HBoxModel",
            "_view_count": null,
            "_view_module": "@jupyter-widgets/controls",
            "_view_module_version": "1.5.0",
            "_view_name": "HBoxView",
            "box_style": "",
            "children": [
              "IPY_MODEL_2bc00fdf127a47db8d586111689ef216",
              "IPY_MODEL_4bb004cbb32b457d963a09e46b4371bc",
              "IPY_MODEL_09d8b91ad1d14b72a1d9fc2c57e4dabe"
            ],
            "layout": "IPY_MODEL_30be11f0fdb146938ec213b7ab0ffb42"
          }
        },
        "2bc00fdf127a47db8d586111689ef216": {
          "model_module": "@jupyter-widgets/controls",
          "model_name": "HTMLModel",
          "model_module_version": "1.5.0",
          "state": {
            "_dom_classes": [],
            "_model_module": "@jupyter-widgets/controls",
            "_model_module_version": "1.5.0",
            "_model_name": "HTMLModel",
            "_view_count": null,
            "_view_module": "@jupyter-widgets/controls",
            "_view_module_version": "1.5.0",
            "_view_name": "HTMLView",
            "description": "",
            "description_tooltip": null,
            "layout": "IPY_MODEL_d73233431b054428948a30ac030a6212",
            "placeholder": "​",
            "style": "IPY_MODEL_b74646c3b27c4680bafd1eb6841cd0a1",
            "value": "Downloading: 100%"
          }
        },
        "4bb004cbb32b457d963a09e46b4371bc": {
          "model_module": "@jupyter-widgets/controls",
          "model_name": "FloatProgressModel",
          "model_module_version": "1.5.0",
          "state": {
            "_dom_classes": [],
            "_model_module": "@jupyter-widgets/controls",
            "_model_module_version": "1.5.0",
            "_model_name": "FloatProgressModel",
            "_view_count": null,
            "_view_module": "@jupyter-widgets/controls",
            "_view_module_version": "1.5.0",
            "_view_name": "ProgressView",
            "bar_style": "success",
            "description": "",
            "description_tooltip": null,
            "layout": "IPY_MODEL_163645932d2842768f8d1be0c077fcd1",
            "max": 2275329241,
            "min": 0,
            "orientation": "horizontal",
            "style": "IPY_MODEL_52d95f6b14844afcb107eb2aebc6138b",
            "value": 2275329241
          }
        },
        "09d8b91ad1d14b72a1d9fc2c57e4dabe": {
          "model_module": "@jupyter-widgets/controls",
          "model_name": "HTMLModel",
          "model_module_version": "1.5.0",
          "state": {
            "_dom_classes": [],
            "_model_module": "@jupyter-widgets/controls",
            "_model_module_version": "1.5.0",
            "_model_name": "HTMLModel",
            "_view_count": null,
            "_view_module": "@jupyter-widgets/controls",
            "_view_module_version": "1.5.0",
            "_view_name": "HTMLView",
            "description": "",
            "description_tooltip": null,
            "layout": "IPY_MODEL_59532574b447469087cad05069d994ca",
            "placeholder": "​",
            "style": "IPY_MODEL_3eeadba768164c4ca3e83229c5d2f9a7",
            "value": " 2.28G/2.28G [02:11&lt;00:00, 17.6MB/s]"
          }
        },
        "30be11f0fdb146938ec213b7ab0ffb42": {
          "model_module": "@jupyter-widgets/base",
          "model_name": "LayoutModel",
          "model_module_version": "1.2.0",
          "state": {
            "_model_module": "@jupyter-widgets/base",
            "_model_module_version": "1.2.0",
            "_model_name": "LayoutModel",
            "_view_count": null,
            "_view_module": "@jupyter-widgets/base",
            "_view_module_version": "1.2.0",
            "_view_name": "LayoutView",
            "align_content": null,
            "align_items": null,
            "align_self": null,
            "border": null,
            "bottom": null,
            "display": null,
            "flex": null,
            "flex_flow": null,
            "grid_area": null,
            "grid_auto_columns": null,
            "grid_auto_flow": null,
            "grid_auto_rows": null,
            "grid_column": null,
            "grid_gap": null,
            "grid_row": null,
            "grid_template_areas": null,
            "grid_template_columns": null,
            "grid_template_rows": null,
            "height": null,
            "justify_content": null,
            "justify_items": null,
            "left": null,
            "margin": null,
            "max_height": null,
            "max_width": null,
            "min_height": null,
            "min_width": null,
            "object_fit": null,
            "object_position": null,
            "order": null,
            "overflow": null,
            "overflow_x": null,
            "overflow_y": null,
            "padding": null,
            "right": null,
            "top": null,
            "visibility": null,
            "width": null
          }
        },
        "d73233431b054428948a30ac030a6212": {
          "model_module": "@jupyter-widgets/base",
          "model_name": "LayoutModel",
          "model_module_version": "1.2.0",
          "state": {
            "_model_module": "@jupyter-widgets/base",
            "_model_module_version": "1.2.0",
            "_model_name": "LayoutModel",
            "_view_count": null,
            "_view_module": "@jupyter-widgets/base",
            "_view_module_version": "1.2.0",
            "_view_name": "LayoutView",
            "align_content": null,
            "align_items": null,
            "align_self": null,
            "border": null,
            "bottom": null,
            "display": null,
            "flex": null,
            "flex_flow": null,
            "grid_area": null,
            "grid_auto_columns": null,
            "grid_auto_flow": null,
            "grid_auto_rows": null,
            "grid_column": null,
            "grid_gap": null,
            "grid_row": null,
            "grid_template_areas": null,
            "grid_template_columns": null,
            "grid_template_rows": null,
            "height": null,
            "justify_content": null,
            "justify_items": null,
            "left": null,
            "margin": null,
            "max_height": null,
            "max_width": null,
            "min_height": null,
            "min_width": null,
            "object_fit": null,
            "object_position": null,
            "order": null,
            "overflow": null,
            "overflow_x": null,
            "overflow_y": null,
            "padding": null,
            "right": null,
            "top": null,
            "visibility": null,
            "width": null
          }
        },
        "b74646c3b27c4680bafd1eb6841cd0a1": {
          "model_module": "@jupyter-widgets/controls",
          "model_name": "DescriptionStyleModel",
          "model_module_version": "1.5.0",
          "state": {
            "_model_module": "@jupyter-widgets/controls",
            "_model_module_version": "1.5.0",
            "_model_name": "DescriptionStyleModel",
            "_view_count": null,
            "_view_module": "@jupyter-widgets/base",
            "_view_module_version": "1.2.0",
            "_view_name": "StyleView",
            "description_width": ""
          }
        },
        "163645932d2842768f8d1be0c077fcd1": {
          "model_module": "@jupyter-widgets/base",
          "model_name": "LayoutModel",
          "model_module_version": "1.2.0",
          "state": {
            "_model_module": "@jupyter-widgets/base",
            "_model_module_version": "1.2.0",
            "_model_name": "LayoutModel",
            "_view_count": null,
            "_view_module": "@jupyter-widgets/base",
            "_view_module_version": "1.2.0",
            "_view_name": "LayoutView",
            "align_content": null,
            "align_items": null,
            "align_self": null,
            "border": null,
            "bottom": null,
            "display": null,
            "flex": null,
            "flex_flow": null,
            "grid_area": null,
            "grid_auto_columns": null,
            "grid_auto_flow": null,
            "grid_auto_rows": null,
            "grid_column": null,
            "grid_gap": null,
            "grid_row": null,
            "grid_template_areas": null,
            "grid_template_columns": null,
            "grid_template_rows": null,
            "height": null,
            "justify_content": null,
            "justify_items": null,
            "left": null,
            "margin": null,
            "max_height": null,
            "max_width": null,
            "min_height": null,
            "min_width": null,
            "object_fit": null,
            "object_position": null,
            "order": null,
            "overflow": null,
            "overflow_x": null,
            "overflow_y": null,
            "padding": null,
            "right": null,
            "top": null,
            "visibility": null,
            "width": null
          }
        },
        "52d95f6b14844afcb107eb2aebc6138b": {
          "model_module": "@jupyter-widgets/controls",
          "model_name": "ProgressStyleModel",
          "model_module_version": "1.5.0",
          "state": {
            "_model_module": "@jupyter-widgets/controls",
            "_model_module_version": "1.5.0",
            "_model_name": "ProgressStyleModel",
            "_view_count": null,
            "_view_module": "@jupyter-widgets/base",
            "_view_module_version": "1.2.0",
            "_view_name": "StyleView",
            "bar_color": null,
            "description_width": ""
          }
        },
        "59532574b447469087cad05069d994ca": {
          "model_module": "@jupyter-widgets/base",
          "model_name": "LayoutModel",
          "model_module_version": "1.2.0",
          "state": {
            "_model_module": "@jupyter-widgets/base",
            "_model_module_version": "1.2.0",
            "_model_name": "LayoutModel",
            "_view_count": null,
            "_view_module": "@jupyter-widgets/base",
            "_view_module_version": "1.2.0",
            "_view_name": "LayoutView",
            "align_content": null,
            "align_items": null,
            "align_self": null,
            "border": null,
            "bottom": null,
            "display": null,
            "flex": null,
            "flex_flow": null,
            "grid_area": null,
            "grid_auto_columns": null,
            "grid_auto_flow": null,
            "grid_auto_rows": null,
            "grid_column": null,
            "grid_gap": null,
            "grid_row": null,
            "grid_template_areas": null,
            "grid_template_columns": null,
            "grid_template_rows": null,
            "height": null,
            "justify_content": null,
            "justify_items": null,
            "left": null,
            "margin": null,
            "max_height": null,
            "max_width": null,
            "min_height": null,
            "min_width": null,
            "object_fit": null,
            "object_position": null,
            "order": null,
            "overflow": null,
            "overflow_x": null,
            "overflow_y": null,
            "padding": null,
            "right": null,
            "top": null,
            "visibility": null,
            "width": null
          }
        },
        "3eeadba768164c4ca3e83229c5d2f9a7": {
          "model_module": "@jupyter-widgets/controls",
          "model_name": "DescriptionStyleModel",
          "model_module_version": "1.5.0",
          "state": {
            "_model_module": "@jupyter-widgets/controls",
            "_model_module_version": "1.5.0",
            "_model_name": "DescriptionStyleModel",
            "_view_count": null,
            "_view_module": "@jupyter-widgets/base",
            "_view_module_version": "1.2.0",
            "_view_name": "StyleView",
            "description_width": ""
          }
        }
      }
    }
  },
  "cells": [
    {
      "cell_type": "markdown",
      "metadata": {
        "id": "view-in-github",
        "colab_type": "text"
      },
      "source": [
        "<a href=\"https://colab.research.google.com/github/sriaryan18/Sanchipt--Apstraction-based-text-summerizer/blob/main/abstraction.ipynb\" target=\"_parent\"><img src=\"https://colab.research.google.com/assets/colab-badge.svg\" alt=\"Open In Colab\"/></a>"
      ]
    },
    {
      "cell_type": "code",
      "metadata": {
        "id": "SHBYmV5UOywX"
      },
      "source": [
        "#   !pip install transformers\n",
        "# ! git clone https://github.com/google-research/pegasus\n",
        "# %cd pegasus\n",
        "# ! export PYTHONPATH=.\n",
        "# ! pip3 install -r requirements.txt"
      ],
      "execution_count": null,
      "outputs": []
    },
    {
      "cell_type": "code",
      "metadata": {
        "colab": {
          "base_uri": "https://localhost:8080/",
          "height": 252
        },
        "id": "wQLxTIfHflsq",
        "outputId": "68f0c450-cc37-41a5-a141-998818af9071"
      },
      "source": [
        "# ! pip install absl-py,\n",
        "# mock,\n",
        "# numpy,\n",
        "# rouge-score,\n",
        "# sacrebleu,\n",
        "# sentencepiece,\n",
        "# tensorflow-text==1.15,\n",
        "# tensor2tensor==1.15,\n",
        "# tensorflow-datasets==2.1,\n",
        "# tensorflow-gpu==1.15\n"
      ],
      "execution_count": null,
      "outputs": [
        {
          "output_type": "stream",
          "name": "stdout",
          "text": [
            "\u001b[31mERROR: Invalid requirement: 'absl-py,'\u001b[0m\n"
          ]
        },
        {
          "output_type": "error",
          "ename": "NameError",
          "evalue": "ignored",
          "traceback": [
            "\u001b[0;31m---------------------------------------------------------------------------\u001b[0m",
            "\u001b[0;31mNameError\u001b[0m                                 Traceback (most recent call last)",
            "\u001b[0;32m<ipython-input-19-dc4f93fe8f97>\u001b[0m in \u001b[0;36m<module>\u001b[0;34m\u001b[0m\n\u001b[1;32m      1\u001b[0m \u001b[0mget_ipython\u001b[0m\u001b[0;34m(\u001b[0m\u001b[0;34m)\u001b[0m\u001b[0;34m.\u001b[0m\u001b[0msystem\u001b[0m\u001b[0;34m(\u001b[0m\u001b[0;34m' pip install absl-py,'\u001b[0m\u001b[0;34m)\u001b[0m\u001b[0;34m\u001b[0m\u001b[0;34m\u001b[0m\u001b[0m\n\u001b[0;32m----> 2\u001b[0;31m \u001b[0mmock\u001b[0m\u001b[0;34m,\u001b[0m\u001b[0;34m\u001b[0m\u001b[0;34m\u001b[0m\u001b[0m\n\u001b[0m\u001b[1;32m      3\u001b[0m \u001b[0mnumpy\u001b[0m\u001b[0;34m,\u001b[0m\u001b[0;34m\u001b[0m\u001b[0;34m\u001b[0m\u001b[0m\n\u001b[1;32m      4\u001b[0m \u001b[0mrouge\u001b[0m\u001b[0;34m-\u001b[0m\u001b[0mscore\u001b[0m\u001b[0;34m,\u001b[0m\u001b[0;34m\u001b[0m\u001b[0;34m\u001b[0m\u001b[0m\n\u001b[1;32m      5\u001b[0m \u001b[0msacrebleu\u001b[0m\u001b[0;34m,\u001b[0m\u001b[0;34m\u001b[0m\u001b[0;34m\u001b[0m\u001b[0m\n",
            "\u001b[0;31mNameError\u001b[0m: name 'mock' is not defined"
          ]
        }
      ]
    },
    {
      "cell_type": "code",
      "metadata": {
        "id": "ROZV7CBbZDxq"
      },
      "source": [
        ">>> from transformers import PegasusForConditionalGeneration, PegasusTokenizer\n",
        ">>> import torch\n",
        ">>> "
      ],
      "execution_count": null,
      "outputs": []
    },
    {
      "cell_type": "code",
      "source": [
        "!pio install transformers\n",
        "! pip install newsapi-python\n",
        "! pip install newsapi-python\n",
        "! pip install pycountry "
      ],
      "metadata": {
        "colab": {
          "base_uri": "https://localhost:8080/"
        },
        "id": "hy3SXaiqGXxz",
        "outputId": "54fc6304-e05d-4032-b3a7-2ac096069f81"
      },
      "execution_count": null,
      "outputs": [
        {
          "output_type": "stream",
          "name": "stdout",
          "text": [
            "Looking in indexes: https://pypi.org/simple, https://us-python.pkg.dev/colab-wheels/public/simple/\n",
            "Collecting newsapi-python\n",
            "  Downloading newsapi_python-0.2.6-py2.py3-none-any.whl (7.9 kB)\n",
            "Requirement already satisfied: requests<3.0.0 in /usr/local/lib/python3.7/dist-packages (from newsapi-python) (2.23.0)\n",
            "Requirement already satisfied: certifi>=2017.4.17 in /usr/local/lib/python3.7/dist-packages (from requests<3.0.0->newsapi-python) (2022.9.24)\n",
            "Requirement already satisfied: chardet<4,>=3.0.2 in /usr/local/lib/python3.7/dist-packages (from requests<3.0.0->newsapi-python) (3.0.4)\n",
            "Requirement already satisfied: idna<3,>=2.5 in /usr/local/lib/python3.7/dist-packages (from requests<3.0.0->newsapi-python) (2.10)\n",
            "Requirement already satisfied: urllib3!=1.25.0,!=1.25.1,<1.26,>=1.21.1 in /usr/local/lib/python3.7/dist-packages (from requests<3.0.0->newsapi-python) (1.24.3)\n",
            "Installing collected packages: newsapi-python\n",
            "Successfully installed newsapi-python-0.2.6\n"
          ]
        }
      ]
    },
    {
      "cell_type": "code",
      "source": [
        "from newsapi.newsapi_client import NewsApiClient\n",
        "import pycountry\n",
        "\n",
        "api=\"31047c7d9f2b4cdfba4dd18b93ae9672\"\n",
        "newsapi = NewsApiClient(api_key=api)\n",
        "\n",
        "input_country = input(\"Country: \")\n",
        "input_countries = [f'{input_country.strip()}']\n",
        "countries = {}\n",
        "\n",
        "\n",
        "for country in pycountry.countries:\n",
        "\n",
        "\tcountries[country.name] = country.alpha_2\n",
        "\n",
        "\n",
        "codes = [countries.get(country.title(), 'Unknown code')\n",
        "\t\tfor country in input_countries]\n",
        "\n",
        "\n",
        "option = input(\"Which category are you interested in?\\n1.Business\\n2.Entertainment\\n3.General\\n4.Health\\n5.Science\\n6.Technology\\n\\nEnter here: \")\n",
        "\n",
        "\n",
        "top_headlines = newsapi.get_top_headlines(\n",
        "\n",
        "\n",
        "\tcategory=f'{option.lower()}', language='en', country=f'{codes[0].lower()}')\n",
        "\n",
        "\n",
        "Headlines = top_headlines['articles']\n",
        "\n",
        "if Headlines:\n",
        "\t\tfor articles in Headlines:\n",
        "\t\t\tb = articles['title'][::-1].index(\"-\")\n",
        "\t\t\tif \"news\" in (articles['title'][-b+1:]).lower():\n",
        "\t\t\t\tprint(\n",
        "\t\t\t\t\tf\"{articles['title'][-b+1:]}: {articles['title'][:-b-2]}.\")\n",
        "\t\t\telse:\n",
        "\t\t\t\tprint(\n",
        "\t\t\t\t\tf\"{articles['title'][-b+1:]} News: {articles['title'][:-b-2]}.\")\n",
        "else:\n",
        "\tprint(\n",
        "\t\tf\"Sorry no articles found for {input_country}, Something Wrong!!!\")\n",
        "# option = input(\"Do you want to search again[Yes/No]?\")\n",
        "# if option.lower() == 'no':\n",
        "# \texit()\n"
      ],
      "metadata": {
        "id": "HrgpFV-yq7V3",
        "colab": {
          "base_uri": "https://localhost:8080/"
        },
        "outputId": "210552d2-1b89-4241-97e1-0d9ac00482bc"
      },
      "execution_count": null,
      "outputs": [
        {
          "output_type": "stream",
          "name": "stdout",
          "text": [
            "Country: india\n",
            "Which category are you interested in?\n",
            "1.Business\n",
            "2.Entertainment\n",
            "3.General\n",
            "4.Health\n",
            "5.Science\n",
            "6.Technology\n",
            "\n",
            "Enter here: science\n",
            "Tech Explorist News: Massive volcanism may have transformed ancient Venus’ climate.\n",
            "Arirang News: NASA's Orion spacecraft completes lunar flyby.\n",
            "NDTV News: NASA's Artemis Spacecraft Reaches The Moon, Sends Back Image Of 'Pale Blue Dot' Earth.\n",
            "Devdiscourse News: SpaceX delays Eutelsat mission liftoff to Tuesday.\n",
            "CNET News: Wild NASA Video Details Daring Plan to Snatch Rocks From Mars.\n",
            "China Daily News: Tianzhou 4 deploys minisatellite - Chinadaily.com.cn.\n",
            "BBC News: ESA mulls Solaris plan to beam solar energy from space.\n",
            "EurekAlert News: Microlaser chip adds new dimensions to quantum communication.\n",
            "NASA Video News: NASA's Advanced Air Mobility Playbook: Cargo Delivery.\n",
            "Universe Today News: Einstein's Predictions for Gravity Have Been Tested at the Largest Possible Scale.\n",
            "Kyodo News Plus: Japan space agency gives up on landing Moon probe.\n",
            "Nanowerk News: Discovery reveals 'brain-like computing' at molecular level is possible.\n",
            "Livescience.com News: Lopsided star cluster may disprove Newton and Einstein, controversial new study claims.\n",
            "Salon News: Is Earth a self-regulating organism? New study suggests our planet has a built-in climate control.\n",
            "Science Daily News: Measuring organ development.\n",
            "Nature.com News: Obstacles need not impede cooperation in active matter.\n",
            "Gates Notes News: Best book about the periodic table | Bill Gates.\n",
            "Nature.com News: Pioneering quantum information science.\n",
            "Science Daily News: New quantum tool developed in groundbreaking experimental achievement: Scientists recreate properties of light in neutral fundamental particles called neutrons.\n",
            "Inceptive Mind News: Novel soft robotic droplet manipulator for hazardous liquid cleanup.\n"
          ]
        }
      ]
    },
    {
      "cell_type": "code",
      "source": [
        "# newsapi.get_sources()"
      ],
      "metadata": {
        "id": "GbwP6A4-WJRK"
      },
      "execution_count": null,
      "outputs": []
    },
    {
      "cell_type": "code",
      "source": [
        "from newsapi.newsapi_client import NewsApiClient\n",
        "import pycountry\n",
        "\n",
        "api=\"31047c7d9f2b4cdfba4dd18b93ae9672\"\n",
        "newsapi = NewsApiClient(api_key=api)\n",
        "top_headlines = newsapi.get_top_headlines(sources='bbc-news')\n",
        "# newsapi.get_everything()"
      ],
      "metadata": {
        "id": "ZkR49FDowYel"
      },
      "execution_count": null,
      "outputs": []
    },
    {
      "cell_type": "code",
      "source": [
        "top_headlines"
      ],
      "metadata": {
        "colab": {
          "base_uri": "https://localhost:8080/"
        },
        "id": "G0RnX3qA1Puw",
        "outputId": "a8e356bd-616d-4154-dbbc-9caedb4ee04d"
      },
      "execution_count": null,
      "outputs": [
        {
          "output_type": "execute_result",
          "data": {
            "text/plain": [
              "{'status': 'ok',\n",
              " 'totalResults': 10,\n",
              " 'articles': [{'source': {'id': 'bbc-news', 'name': 'BBC News'},\n",
              "   'author': 'BBC News',\n",
              "   'title': 'Millions of lives under threat in Ukraine this winter - WHO',\n",
              "   'description': 'Millions are at risk as winter sets in as many are without power, a WHO official warns.',\n",
              "   'url': 'http://www.bbc.co.uk/news/world-europe-63708223',\n",
              "   'urlToImage': 'https://ichef.bbci.co.uk/news/1024/branded_news/1DC7/production/_127732670_mediaitem127732666.jpg',\n",
              "   'publishedAt': '2022-11-22T07:22:24.7364459Z',\n",
              "   'content': \"The lives of millions will be under threat in Ukraine this winter, the World Health Organization has said. \\r\\nHalf of Ukraine's energy infrastructure is either damaged or destroyed, and 10 million are… [+3353 chars]\"},\n",
              "  {'source': {'id': 'bbc-news', 'name': 'BBC News'},\n",
              "   'author': 'BBC News',\n",
              "   'title': \"'Bondi Beast' serial rapist identified after almost 40 years\",\n",
              "   'description': 'Police believe the Sydney man attacked 31 women, including a teenager, in the 1980s and 1990s.',\n",
              "   'url': 'http://www.bbc.co.uk/news/world-australia-63699882',\n",
              "   'urlToImage': 'https://ichef.bbci.co.uk/news/1024/branded_news/4292/production/_127724071_bondibeast2.jpg',\n",
              "   'publishedAt': '2022-11-22T06:07:23.1427309Z',\n",
              "   'content': 'Almost 40 years after his first attack, Australian police have identified a serial rapist who terrorised Sydney over three decades.\\r\\nKeith Simms targeted 31 women between 1985 and 2001, entering thei… [+1818 chars]'},\n",
              "  {'source': {'id': 'bbc-news', 'name': 'BBC News'},\n",
              "   'author': 'BBC News',\n",
              "   'title': 'ESA mulls Solaris plan to beam solar energy from space',\n",
              "   'description': \"The European Space Agency is considering the 'Solaris Initiative' plan to collect solar energy in orbit and beam electricity back to Earth.\",\n",
              "   'url': 'http://www.bbc.co.uk/news/science-environment-62982113',\n",
              "   'urlToImage': 'https://ichef.bbci.co.uk/news/1024/branded_news/6017/production/_126799542_beaming2.png',\n",
              "   'publishedAt': '2022-11-22T04:07:16.9088406Z',\n",
              "   'content': 'Space chiefs are to investigate whether electricity could be beamed wirelessly from space into millions of homes.\\r\\nThe European Space Agency will this week likely approve a three-year study to see if… [+5032 chars]'},\n",
              "  {'source': {'id': 'bbc-news', 'name': 'BBC News'},\n",
              "   'author': 'BBC News',\n",
              "   'title': 'Kosovo-Serbia flare-up fears over car number plate row',\n",
              "   'description': 'Talks at the EU fail to settle a row over Serbian number plates, fuelling Kosovo violence fears.',\n",
              "   'url': 'http://www.bbc.co.uk/news/world-europe-63711841',\n",
              "   'urlToImage': 'https://ichef.bbci.co.uk/news/1024/branded_news/16523/production/_127472419_c1fad37482c0c4197a81d3983a36410dd415a6ea.jpg',\n",
              "   'publishedAt': '2022-11-22T02:07:23.6789343Z',\n",
              "   'content': 'The EU and Serbia have warned that violence could erupt in Kosovo after EU-mediated talks failed to resolve a dispute over Serbian car number plates.\\r\\nThe Kosovan authorities want the ethnic Serb min… [+1946 chars]'},\n",
              "  {'source': {'id': 'bbc-news', 'name': 'BBC News'},\n",
              "   'author': 'BBC News',\n",
              "   'title': 'Canada: Why the country wants to bring in 1.5m immigrants by 2025',\n",
              "   'description': \"Some Canadians are concerned the country's aggressive immigration targets are too high.\",\n",
              "   'url': 'http://www.bbc.co.uk/news/world-us-canada-63643912',\n",
              "   'urlToImage': 'https://ichef.bbci.co.uk/news/1024/branded_news/E765/production/_127673295_gettyimages-954301944.jpg',\n",
              "   'publishedAt': '2022-11-22T00:22:24.4866531Z',\n",
              "   'content': 'Canada is betting big on immigration to fill the gap in its economy left by aging Baby Boomers leaving the workforce - but not everyone is on board with bringing in so many people from abroad. \\r\\nEarl… [+7042 chars]'},\n",
              "  {'source': {'id': 'bbc-news', 'name': 'BBC News'},\n",
              "   'author': 'BBC News',\n",
              "   'title': \"'No fowl play' as Biden pardons Thanksgiving turkeys\",\n",
              "   'description': 'As part of a Thanksgiving tradition, President Biden spares two turkeys, named Chocolate and Chip.',\n",
              "   'url': 'http://www.bbc.co.uk/news/world-us-canada-63711681',\n",
              "   'urlToImage': 'https://ichef.bbci.co.uk/news/1024/branded_news/41CB/production/_127734861_p0dhv090.jpg',\n",
              "   'publishedAt': '2022-11-21T22:37:22.6429127Z',\n",
              "   'content': 'As part of a Thanksgiving tradition, President Biden pardons two turkeys, named Chocolate and Chip.'},\n",
              "  {'source': {'id': 'bbc-news', 'name': 'BBC News'},\n",
              "   'author': 'BBC News',\n",
              "   'title': 'Jay Leno: Comedian released from hospital after being burned in fire',\n",
              "   'description': 'The US comedian spent 10 days receiving treatment after being burned in a fire at his garage.',\n",
              "   'url': 'http://www.bbc.co.uk/news/world-us-canada-63705868',\n",
              "   'urlToImage': 'https://ichef.bbci.co.uk/news/1024/branded_news/50F3/production/_127732702_jay-leno-burn-hospital-01-ht-llr-221121_1669059869772_hpmain_16x9_992.jpg',\n",
              "   'publishedAt': '2022-11-21T22:07:40.4840854Z',\n",
              "   'content': 'US comedian Jay Leno has been discharged from hospital after receiving treatment for burns suffered in a fire at his California garage. \\r\\nLeno, 72, spent 10 days at a Los Angeles hospital after suffe… [+1342 chars]'},\n",
              "  {'source': {'id': 'bbc-news', 'name': 'BBC News'},\n",
              "   'author': 'BBC Sport',\n",
              "   'title': 'Iran players decline to sing national anthem',\n",
              "   'description': 'Iran decline to sing their national anthem before their World Cup match with England in apparent expression of support of anti-government protests in their homeland.',\n",
              "   'url': 'http://www.bbc.co.uk/sport/football/63706487',\n",
              "   'urlToImage': 'https://ichef.bbci.co.uk/live-experience/cps/624/cpsprodpb/11D8F/production/_127730137_cc9b297c676b631c5964fe023542e959cf848ccf.jpg',\n",
              "   'publishedAt': '2022-11-21T16:22:20.6278812Z',\n",
              "   'content': '<table><tr><th>Fifa World Cup</th></tr>\\r\\n<tr><td>Host nation: Qatar Dates: 20 November-18 December Coverage: Live on BBC TV, BBC iPlayer, BBC Radio 5 Live, BBC Radio Wales, BBC Radio Cymru, BBC Sound… [+3611 chars]'},\n",
              "  {'source': {'id': 'bbc-news', 'name': 'BBC News'},\n",
              "   'author': 'BBC News',\n",
              "   'title': 'Indonesia: Java quake kills 14 and injures hundreds',\n",
              "   'description': 'The tremor could also be felt in the capital Jakarta where offices were evacuated.',\n",
              "   'url': 'http://www.bbc.co.uk/news/world-asia-63700629',\n",
              "   'urlToImage': 'https://ichef.bbci.co.uk/news/1024/branded_news/16F64/production/_127725049_c8a24935-be3f-41bc-971c-f5632b51511a.png',\n",
              "   'publishedAt': '2022-11-21T09:37:30.1426933Z',\n",
              "   'content': 'An earthquake has struck the main Indonesian island of Java, leaving at least 14 people dead and hundreds more injured, say officials.\\r\\nThe 5.6 magnitude quake struck Cianjur town in West Java, at a … [+1369 chars]'},\n",
              "  {'source': {'id': 'bbc-news', 'name': 'BBC News'},\n",
              "   'author': 'BBC News',\n",
              "   'title': \"Club Q Colorado shooting: Patron used shooter's gun to subdue him - mayor\",\n",
              "   'description': 'The quick thinking of patrons prevented a deadly shooting in Colorado from being even worse, officials say.',\n",
              "   'url': 'http://www.bbc.co.uk/news/world-us-canada-63698165',\n",
              "   'urlToImage': 'https://ichef.bbci.co.uk/news/1024/branded_news/3A4A/production/_127722941_f301fb468a47d2b0b098bd205702693eb59445b20_0_8192_54641000x667.jpg',\n",
              "   'publishedAt': '2022-11-21T04:37:20.5562735Z',\n",
              "   'content': 'Media caption, Watch: Man who hid from Colorado shooting gunman recounts shooting\\r\\nPeople at a gay club in the US state of Colorado have been hailed as heroes for subduing a gunman and preventing a d… [+3956 chars]'}]}"
            ]
          },
          "metadata": {},
          "execution_count": 26
        }
      ]
    },
    {
      "cell_type": "code",
      "source": [
        "\n",
        "# import module\n",
        "url=top_headlines['articles'][0]['url']\n",
        "import requests\n",
        "import pandas as pd\n",
        "from bs4 import BeautifulSoup\n",
        "def getdata(url):\n",
        "    r = requests.get(url)\n",
        "    return r.text\n",
        "\n",
        "htmldata = getdata(url)"
      ],
      "metadata": {
        "id": "7SmFZQXUxJpM"
      },
      "execution_count": null,
      "outputs": []
    },
    {
      "cell_type": "code",
      "source": [
        "soup = BeautifulSoup(htmldata, 'html.parser')\n",
        "data = ''\n",
        "news=\"\"\n",
        "for data in soup.find_all(\"div\",class_='ssrcss-11r1m41-RichTextComponentWrapper'):\n",
        "    print(data.get_text())\n",
        "    news=news+data.get_text()"
      ],
      "metadata": {
        "colab": {
          "base_uri": "https://localhost:8080/"
        },
        "id": "vxkSp6cyRfNd",
        "outputId": "ed06adb5-a3ac-4edc-e88f-2a621569710e"
      },
      "execution_count": null,
      "outputs": [
        {
          "output_type": "stream",
          "name": "stdout",
          "text": [
            "The lives of millions will be under threat in Ukraine this winter, the World Health Organization has said. \n",
            "Half of Ukraine's energy infrastructure is either damaged or destroyed, and 10 million are currently without power, said Dr Hans Henri P Kluge, WHO regional director for Europe. \n",
            "Temperatures are predicted to plummet as low as -20C (-4F) in some areas. \n",
            "The WHO has documented 703 attacks on health infrastructure since Russia's invasion began.\n",
            "Last week, Russia hit more energy installations and civilian buildings in one of its heaviest aerial bombardments of the war.\n",
            "This has been a recent Russian tactic following setbacks on the battlefield, and its impact is starting to be felt more acutely as winter sets in.\n",
            "\"Put simply, this winter will be about survival,\" Dr Kluge told a news conference in the Ukrainian capital, Kyiv. \n",
            "Ukraine's health system is \"facing its darkest days in the war so far\", and the best solution is for the conflict to end, he added.\n",
            "Due to the attacks, hundreds of hospitals and healthcare facilities are \"no longer fully operational, lacking fuel, water and electricity to meet basic needs\", he said. The 703 attacks include violence as well as threatened violence against hospitals, ambulance and medical supplies, according to the WHO.\n",
            "Maternity wards need incubators, blood banks need refrigerators and intensive care beds need ventilators, Dr Kluge said, adding that \"all require energy\". \n",
            "Up to three million people could flee their homes in search of warmth and safety, the WHO says.\n",
            "Dr Kluge said he was \"very concerned\" for 17,000 HIV patients in Donetsk \"who may soon run out of critical antiretroviral drugs that help keep them alive\".\n",
            "Much of Donetsk is under Russian control and Dr Kluge said he was \"urgently calling for the creation of a humanitarian health corridor into all newly regained and occupied areas\".\n",
            "There are also concerns about Covid cases rising.\n",
            "\"With low basic vaccination rates - let alone boosters - millions of Ukrainians have waning or no immunity to Covid,\" Dr Kluge said.\n",
            "The warnings come as snow has fallen across Ukraine and temperatures have dropped below freezing.\n",
            "In Kyiv, snow covers walkways, empty playgrounds and park benches. Few people are on the streets.\n",
            "Despite the snow, winter has not officially started and temperatures are likely to drop much further.\n",
            "The Zaporizhzhia nuclear power plant, which used to produce more than 25% of Ukraine's electricity, no longer generates power.\n",
            "There was renewed shelling at the plant over the weekend.\n",
            "The head of the International Atomic Energy Agency (IAEA), Rafael Grossi, condemned the attacks, saying it was another \"close call\" at Europe's biggest nuclear power plant.\n",
            "IAEA experts toured the site on Monday, and the agency said they found widespread damage, but that there were no immediate nuclear safety or security concerns.\n",
            "Russia and Ukraine have accused each other of carrying out the attacks.\n",
            "Elsewhere in the war, Ukrainian prosecutors have given details of what they have found in four alleged torture chambers in Kherson after Russian troops left the southern city.\n",
            "They say people were \"brutally tortured\", and that batons, bullets and an electrocution device were discovered.\n",
            "Last week, Ukraine said it had found the bodies of 63 civilians bearing signs of torture near Kherson. The BBC also spoke to two people who said they had been held for more than a month in \"torture chambers\".\n",
            "Russia denies committing abuses during its invasion.\n"
          ]
        }
      ]
    },
    {
      "cell_type": "code",
      "source": [
        "len(news)"
      ],
      "metadata": {
        "colab": {
          "base_uri": "https://localhost:8080/"
        },
        "id": "oKgsMkYazuya",
        "outputId": "e618ba4c-acd4-4234-ffd7-3874944d0d04"
      },
      "execution_count": null,
      "outputs": [
        {
          "output_type": "execute_result",
          "data": {
            "text/plain": [
              "3461"
            ]
          },
          "metadata": {},
          "execution_count": 17
        }
      ]
    },
    {
      "cell_type": "code",
      "metadata": {
        "colab": {
          "base_uri": "https://localhost:8080/",
          "height": 232,
          "referenced_widgets": [
            "f433f61ad8ae4794a31670857029643c",
            "f9160fe23e624a2191d23be7e972d702",
            "724e7f5b055f42b6bda582f76e746da0",
            "29f773a38af045dab0423180f1b55735",
            "83fff37bdd3c4824ae901db53df3de79",
            "6e704d64328b4c85b30deb0db5b0be2b",
            "b1602b8a36844384b6a9a7fd752b951a",
            "77d60a2bc1c6435e96805e94028bcf01",
            "f900611f93b14f4384ff5ce39e6389b8",
            "ab9c688e877347faa56f687f1a84ea35",
            "5f978a9266ab438ca48ed7694bddb5e8",
            "2c84708ccc314e7abbeabde0d1896860",
            "8d0b4914989247009192ed9b46cbb45a",
            "70561f3fb58a4096a2da3985f80f286e",
            "df3ae0237ff44856994955d7daca3301",
            "aa3d15ec27164ea1ad5abdee9e417797",
            "05bd2fcd719f43f8952d66cc6051b901",
            "bd80ef713cf44debb932b604807a577b",
            "fc9761d1415c4b1391a6a6e2dc29124d",
            "c0cf9b5b0ca84479a781bffcd177e822",
            "beaa016c32da4d7aa5e4f4c8a82de4e7",
            "97e5407f188f4b6887f99ba2a661096d",
            "dd422445e97c439eac85e98023f5fa9b",
            "0a1e7321016c4754b548a0ab4d46555f",
            "c017fff115f945bcbd8bd79df4a1d3c0",
            "4167d73a89a14cb1bafcf5c2cafd189e",
            "6c6865277bd045dfbed61b7c0362a79e",
            "4b342966c8d446d2a68707fcc809a827",
            "170f7d01a9584312a80ed0d4bf6f504c",
            "d371d756e76a434783b46babc2939c76",
            "900472ed9cd24aa58c88e3c2bc02d62e",
            "e5c97798af9c4429b2c41fab1a8a9a0b",
            "1922a204ee3c443ca19ccd3ca3836044",
            "5cf9dc0b4bbb47e093ad4ed169b1e137",
            "9296287b04634ebe9c271ae9fe39a651",
            "294d7ce06518485989e299083fa93c4a",
            "c3f6d1f29cae4b4cb76b2112798ea126",
            "c6cb1c64c9fa4ee4843737f756c344cf",
            "7d8afff3f34a4a8ea2794b333d8cf16a",
            "748a487787584d5c8722f7804b1d346c",
            "ac6453ce4b7f4408bbf1c2c1abebbd44",
            "54ed5e5d9bfd414eb0e759d32a31bb0e",
            "b12f959160c440f49eb050b70dcef28f",
            "3dd1042a821a4d26b22c240d2c6a0c1b",
            "7b19edee823541c5b15a125e95b014f9",
            "2bc00fdf127a47db8d586111689ef216",
            "4bb004cbb32b457d963a09e46b4371bc",
            "09d8b91ad1d14b72a1d9fc2c57e4dabe",
            "30be11f0fdb146938ec213b7ab0ffb42",
            "d73233431b054428948a30ac030a6212",
            "b74646c3b27c4680bafd1eb6841cd0a1",
            "163645932d2842768f8d1be0c077fcd1",
            "52d95f6b14844afcb107eb2aebc6138b",
            "59532574b447469087cad05069d994ca",
            "3eeadba768164c4ca3e83229c5d2f9a7"
          ]
        },
        "id": "qPIWGlQHZtzx",
        "outputId": "2227059c-ffa9-46a2-afdb-1dbde77d4044"
      },
      "source": [
        "# src_text = [top_headlines['articles'][1]['content']]\n",
        "# model_name = 'google/pegasus-xsum'\n",
        "# device = 'cpu'\n",
        "# tokenizer = PegasusTokenizer.from_pretrained(model_name)\n",
        "# model = PegasusForConditionalGeneration.from_pretrained(model_name).to(device)\n",
        "# batch = tokenizer(src_text, truncation=True, padding='longest', return_tensors=\"pt\").to(device)\n",
        "# translated = model.generate(**batch)\n",
        "# tgt_text = tokenizer.batch_decode(translated, skip_special_tokens=True)\n",
        "# # assert tgt_text[0] == \"California's largest electricity provider has turned off power to hundreds of thousands of customers. \""
      ],
      "execution_count": null,
      "outputs": [
        {
          "output_type": "display_data",
          "data": {
            "text/plain": [
              "Downloading:   0%|          | 0.00/1.91M [00:00<?, ?B/s]"
            ],
            "application/vnd.jupyter.widget-view+json": {
              "version_major": 2,
              "version_minor": 0,
              "model_id": "f433f61ad8ae4794a31670857029643c"
            }
          },
          "metadata": {}
        },
        {
          "output_type": "display_data",
          "data": {
            "text/plain": [
              "Downloading:   0%|          | 0.00/65.0 [00:00<?, ?B/s]"
            ],
            "application/vnd.jupyter.widget-view+json": {
              "version_major": 2,
              "version_minor": 0,
              "model_id": "2c84708ccc314e7abbeabde0d1896860"
            }
          },
          "metadata": {}
        },
        {
          "output_type": "display_data",
          "data": {
            "text/plain": [
              "Downloading:   0%|          | 0.00/87.0 [00:00<?, ?B/s]"
            ],
            "application/vnd.jupyter.widget-view+json": {
              "version_major": 2,
              "version_minor": 0,
              "model_id": "dd422445e97c439eac85e98023f5fa9b"
            }
          },
          "metadata": {}
        },
        {
          "output_type": "display_data",
          "data": {
            "text/plain": [
              "Downloading:   0%|          | 0.00/1.39k [00:00<?, ?B/s]"
            ],
            "application/vnd.jupyter.widget-view+json": {
              "version_major": 2,
              "version_minor": 0,
              "model_id": "5cf9dc0b4bbb47e093ad4ed169b1e137"
            }
          },
          "metadata": {}
        },
        {
          "output_type": "display_data",
          "data": {
            "text/plain": [
              "Downloading:   0%|          | 0.00/2.28G [00:00<?, ?B/s]"
            ],
            "application/vnd.jupyter.widget-view+json": {
              "version_major": 2,
              "version_minor": 0,
              "model_id": "7b19edee823541c5b15a125e95b014f9"
            }
          },
          "metadata": {}
        },
        {
          "output_type": "stream",
          "name": "stderr",
          "text": [
            "/usr/local/lib/python3.7/dist-packages/transformers/generation_utils.py:1364: UserWarning: Neither `max_length` nor `max_new_tokens` has been set, `max_length` will default to 64 (`self.config.max_length`). Controlling `max_length` via the config is deprecated and `max_length` will be removed from the config in v5 of Transformers -- we recommend using `max_new_tokens` to control the maximum length of the generation.\n",
            "  UserWarning,\n"
          ]
        }
      ]
    },
    {
      "cell_type": "code",
      "source": [
        "# src_text = news\n",
        "# batch = tokenizer(src_text, truncation=False, padding='longest', return_tensors=\"pt\",max_length=500).to(device)\n",
        "# translated = model.generate(**batch)\n",
        "# tgt_text = tokenizer.batch_decode(translated, )"
      ],
      "metadata": {
        "id": "qV85Emi8z7Tj"
      },
      "execution_count": null,
      "outputs": []
    },
    {
      "cell_type": "code",
      "metadata": {
        "colab": {
          "base_uri": "https://localhost:8080/",
          "height": 165
        },
        "id": "m7arAYXYPUCl",
        "outputId": "e2415ec4-602c-4400-ac53-baf0b1ac2abc"
      },
      "source": [],
      "execution_count": null,
      "outputs": [
        {
          "output_type": "error",
          "ename": "TypeError",
          "evalue": "ignored",
          "traceback": [
            "\u001b[0;31m---------------------------------------------------------------------------\u001b[0m",
            "\u001b[0;31mTypeError\u001b[0m                                 Traceback (most recent call last)",
            "\u001b[0;32m<ipython-input-123-ba22f1b39224>\u001b[0m in \u001b[0;36m<module>\u001b[0;34m\u001b[0m\n\u001b[0;32m----> 1\u001b[0;31m \u001b[0mnext\u001b[0m\u001b[0;34m(\u001b[0m\u001b[0mbatch\u001b[0m\u001b[0;34m)\u001b[0m\u001b[0;34m\u001b[0m\u001b[0;34m\u001b[0m\u001b[0m\n\u001b[0m",
            "\u001b[0;31mTypeError\u001b[0m: 'BatchEncoding' object is not an iterator"
          ]
        }
      ]
    },
    {
      "cell_type": "code",
      "metadata": {
        "id": "-I57nX3IeM2M"
      },
      "source": [
        "from transformers import pipeline\n",
        "\n",
        "summarizer = pipeline(\"summarization\", model=\"facebook/bart-large-cnn\")\n"
      ],
      "execution_count": null,
      "outputs": []
    },
    {
      "cell_type": "code",
      "source": [],
      "metadata": {
        "id": "gOx9EFB-GlPn"
      },
      "execution_count": null,
      "outputs": []
    },
    {
      "cell_type": "code",
      "source": [
        "# if(len(news)>1024):\n",
        "#   news=news[:1024]\n",
        "ARTICLE = news\n",
        "summ=summarizer(ARTICLE, max_length=500, min_length=30, do_sample=False)\n",
        "print(summ)"
      ],
      "metadata": {
        "colab": {
          "base_uri": "https://localhost:8080/"
        },
        "id": "xlsg8XYRFnfN",
        "outputId": "1dc21cef-9766-4f6b-a3a9-e02c0a8e5681"
      },
      "execution_count": null,
      "outputs": [
        {
          "output_type": "stream",
          "name": "stdout",
          "text": [
            "[{'summary_text': \"Half of Ukraine's energy infrastructure is either damaged or destroyed. Temperatures are predicted to plummet as low as -20C (-4F) in some areas. The WHO has documented 703 attacks on health infrastructure since Russia's invasion began.\"}]\n"
          ]
        }
      ]
    },
    {
      "cell_type": "code",
      "metadata": {
        "id": "SdVTGgW1mLHh"
      },
      "source": [],
      "execution_count": null,
      "outputs": []
    },
    {
      "cell_type": "code",
      "metadata": {
        "id": "Shvcytht1sAI"
      },
      "source": [
        "import joblib"
      ],
      "execution_count": null,
      "outputs": []
    },
    {
      "cell_type": "code",
      "metadata": {
        "id": "T9pYrmPf12ji"
      },
      "source": [
        "filename=\"/content/drive/MyDrive/final_model.pkl\""
      ],
      "execution_count": null,
      "outputs": []
    },
    {
      "cell_type": "code",
      "metadata": {
        "id": "-KxMOid61764"
      },
      "source": [
        "joblib.dump(model,filename)"
      ],
      "execution_count": null,
      "outputs": []
    },
    {
      "cell_type": "code",
      "metadata": {
        "id": "HRz95O861_f7"
      },
      "source": [],
      "execution_count": null,
      "outputs": []
    }
  ]
}